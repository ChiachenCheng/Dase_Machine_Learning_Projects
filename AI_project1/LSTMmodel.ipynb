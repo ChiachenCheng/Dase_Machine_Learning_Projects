{
 "cells": [
  {
   "cell_type": "code",
   "execution_count": 1,
   "metadata": {},
   "outputs": [
    {
     "name": "stderr",
     "output_type": "stream",
     "text": [
      "Using TensorFlow backend.\n",
      "/Library/Frameworks/Python.framework/Versions/3.6/lib/python3.6/site-packages/tensorflow/python/framework/dtypes.py:523: FutureWarning: Passing (type, 1) or '1type' as a synonym of type is deprecated; in a future version of numpy, it will be understood as (type, (1,)) / '(1,)type'.\n",
      "  _np_qint8 = np.dtype([(\"qint8\", np.int8, 1)])\n",
      "/Library/Frameworks/Python.framework/Versions/3.6/lib/python3.6/site-packages/tensorflow/python/framework/dtypes.py:524: FutureWarning: Passing (type, 1) or '1type' as a synonym of type is deprecated; in a future version of numpy, it will be understood as (type, (1,)) / '(1,)type'.\n",
      "  _np_quint8 = np.dtype([(\"quint8\", np.uint8, 1)])\n",
      "/Library/Frameworks/Python.framework/Versions/3.6/lib/python3.6/site-packages/tensorflow/python/framework/dtypes.py:525: FutureWarning: Passing (type, 1) or '1type' as a synonym of type is deprecated; in a future version of numpy, it will be understood as (type, (1,)) / '(1,)type'.\n",
      "  _np_qint16 = np.dtype([(\"qint16\", np.int16, 1)])\n",
      "/Library/Frameworks/Python.framework/Versions/3.6/lib/python3.6/site-packages/tensorflow/python/framework/dtypes.py:526: FutureWarning: Passing (type, 1) or '1type' as a synonym of type is deprecated; in a future version of numpy, it will be understood as (type, (1,)) / '(1,)type'.\n",
      "  _np_quint16 = np.dtype([(\"quint16\", np.uint16, 1)])\n",
      "/Library/Frameworks/Python.framework/Versions/3.6/lib/python3.6/site-packages/tensorflow/python/framework/dtypes.py:527: FutureWarning: Passing (type, 1) or '1type' as a synonym of type is deprecated; in a future version of numpy, it will be understood as (type, (1,)) / '(1,)type'.\n",
      "  _np_qint32 = np.dtype([(\"qint32\", np.int32, 1)])\n",
      "/Library/Frameworks/Python.framework/Versions/3.6/lib/python3.6/site-packages/tensorflow/python/framework/dtypes.py:532: FutureWarning: Passing (type, 1) or '1type' as a synonym of type is deprecated; in a future version of numpy, it will be understood as (type, (1,)) / '(1,)type'.\n",
      "  np_resource = np.dtype([(\"resource\", np.ubyte, 1)])\n"
     ]
    }
   ],
   "source": [
    "# -*- coding: utf-8 -*-\n",
    "from __future__ import print_function\n",
    "import time\n",
    "import random\n",
    "import warnings\n",
    "import numpy as np\n",
    "from keras.models import Sequential\n",
    "from keras.layers import Bidirectional\n",
    "from keras.layers.recurrent import LSTM\n",
    "from keras.layers.core import Dense, Activation, Dropout\n",
    "from gensim.models import FastText\n",
    "import os\n",
    "import json\n",
    "os.environ[\"CUDA_VISIBLE_DEVICES\"] = \"-1\"\n",
    "warnings.filterwarnings(\"ignore\")"
   ]
  },
  {
   "cell_type": "code",
   "execution_count": 2,
   "metadata": {},
   "outputs": [],
   "source": [
    "def load_data():\n",
    "    words = []\n",
    "    y_train = []\n",
    "    with open('20news.json', 'r') as f:\n",
    "        lines = []\n",
    "        for l in f:\n",
    "            lines.append(l)\n",
    "        random.shuffle(lines)\n",
    "        for l in lines:\n",
    "            data = json.loads(l)\n",
    "            words.append(data[\"text\"])\n",
    "            onehot = [0 for i in range(20)]\n",
    "            onehot[data[\"label\"]] = 1\n",
    "            y_train.append(onehot)\n",
    "    model = FastText.load('fasttext.model')\n",
    "    len1 = len(words)\n",
    "    labels_maxn = 20\n",
    "    words_maxn = 32\n",
    "    dict_vec={}\n",
    "    for word in model.wv.index2word:\n",
    "        dict_vec[word] = list(model.wv[word])\n",
    "    x_train=[]\n",
    "    maxn = 340\n",
    "\n",
    "    zerolist = [0 for i in range(labels_maxn)]\n",
    "    for i in range(len1):\n",
    "        if y_train[i] == zerolist:\n",
    "            continue\n",
    "        embedding_one=[]\n",
    "        words_one=words[i]\n",
    "        len_word = len(words_one)\n",
    "        if len_word >= maxn:\n",
    "            words_one = words_one[0:maxn]\n",
    "            for j in range(maxn):\n",
    "                if words_one[j] in dict_vec:\n",
    "                    embedding_one.append(dict_vec[words_one[j]])\n",
    "                else:\n",
    "                    dict_vec[words_one[j]]=[0 for temp in range(words_maxn)]\n",
    "                    embedding_one.append(dict_vec[words_one[j]])\n",
    "        else:\n",
    "            for k in range(maxn-len_word):\n",
    "                words_one.append(\"#\")\n",
    "            for j in range(maxn):\n",
    "                if words_one[j] in dict_vec:\n",
    "                    embedding_one.append(dict_vec[words_one[j]])\n",
    "                else:\n",
    "                    dict_vec[words_one[j]] = [0 for temp in range(words_maxn)]\n",
    "                    embedding_one.append(dict_vec[words_one[j]])\n",
    "        x_train.append(embedding_one)\n",
    "\n",
    "    y_train_suc = []\n",
    "    for y_train_one in y_train:\n",
    "        if y_train_one == zerolist:\n",
    "            continue\n",
    "        y_train_suc.append(y_train_one)\n",
    "    y_train = y_train_suc\n",
    "\n",
    "    x_train = np.array(x_train)\n",
    "    y_train = np.array(y_train)\n",
    "    return x_train,  y_train"
   ]
  },
  {
   "cell_type": "code",
   "execution_count": 3,
   "metadata": {},
   "outputs": [
    {
     "name": "stdout",
     "output_type": "stream",
     "text": [
      "(18828, 340, 32)\n",
      "(18828, 20)\n",
      "(15062, 340, 32)\n",
      "(15062, 20)\n",
      "(3766, 340, 32)\n",
      "(3766, 20)\n"
     ]
    }
   ],
   "source": [
    "x_all, y_all=load_data()\n",
    "\n",
    "print(np.array(x_all).shape,flush=True)\n",
    "print(np.array(y_all).shape,flush=True)\n",
    "# 有效数据18828个\n",
    "maxn = len(x_all)\n",
    "trainn = int(maxn * 0.8)\n",
    "x_train = x_all[0:trainn]\n",
    "x_test = x_all[trainn:maxn]\n",
    "y_train = y_all[0:trainn]\n",
    "y_test = y_all[trainn:maxn]\n",
    "#训练集：验证集；测试集=6:2:2\n",
    "print(np.array(x_train).shape,flush=True)\n",
    "print(np.array(y_train).shape,flush=True)\n",
    "print(np.array(x_test).shape,flush=True)\n",
    "print(np.array(y_test).shape,flush=True)"
   ]
  },
  {
   "cell_type": "code",
   "execution_count": 4,
   "metadata": {},
   "outputs": [
    {
     "name": "stdout",
     "output_type": "stream",
     "text": [
      "Train on 11296 samples, validate on 3766 samples\n",
      "Epoch 1/20\n",
      "11296/11296 [==============================] - 98s 9ms/step - loss: 0.2499 - val_loss: 0.1973\n",
      "Epoch 2/20\n",
      "11296/11296 [==============================] - 100s 9ms/step - loss: 0.2003 - val_loss: 0.1955\n",
      "Epoch 3/20\n",
      "11296/11296 [==============================] - 100s 9ms/step - loss: 0.1953 - val_loss: 0.1876\n",
      "Epoch 4/20\n",
      "11296/11296 [==============================] - 101s 9ms/step - loss: 0.1889 - val_loss: 0.1803\n",
      "Epoch 5/20\n",
      "11296/11296 [==============================] - 97s 9ms/step - loss: 0.1814 - val_loss: 0.1735\n",
      "Epoch 6/20\n",
      "11296/11296 [==============================] - 95s 8ms/step - loss: 0.1747 - val_loss: 0.1676\n",
      "Epoch 7/20\n",
      "11296/11296 [==============================] - 95s 8ms/step - loss: 0.1668 - val_loss: 0.1583\n",
      "Epoch 8/20\n",
      "11296/11296 [==============================] - 102s 9ms/step - loss: 0.1584 - val_loss: 0.1522\n",
      "Epoch 9/20\n",
      "11296/11296 [==============================] - 100s 9ms/step - loss: 0.1527 - val_loss: 0.1488\n",
      "Epoch 10/20\n",
      "11296/11296 [==============================] - 101s 9ms/step - loss: 0.1446 - val_loss: 0.1410\n",
      "Epoch 11/20\n",
      "11296/11296 [==============================] - 101s 9ms/step - loss: 0.1401 - val_loss: 0.1366\n",
      "Epoch 12/20\n",
      "11296/11296 [==============================] - 101s 9ms/step - loss: 0.1341 - val_loss: 0.1310\n",
      "Epoch 13/20\n",
      "11296/11296 [==============================] - 100s 9ms/step - loss: 0.1284 - val_loss: 0.1265\n",
      "Epoch 14/20\n",
      "11296/11296 [==============================] - 102s 9ms/step - loss: 0.1218 - val_loss: 0.1220\n",
      "Epoch 15/20\n",
      "11296/11296 [==============================] - 103s 9ms/step - loss: 0.1147 - val_loss: 0.1169\n",
      "Epoch 16/20\n",
      "11296/11296 [==============================] - 101s 9ms/step - loss: 0.1100 - val_loss: 0.1148\n",
      "Epoch 17/20\n",
      "11296/11296 [==============================] - 99s 9ms/step - loss: 0.1045 - val_loss: 0.1104\n",
      "Epoch 18/20\n",
      "11296/11296 [==============================] - 97s 9ms/step - loss: 0.1006 - val_loss: 0.1138\n",
      "Epoch 19/20\n",
      "11296/11296 [==============================] - 96s 9ms/step - loss: 0.0965 - val_loss: 0.1044\n",
      "Epoch 20/20\n",
      "11296/11296 [==============================] - 96s 8ms/step - loss: 0.0901 - val_loss: 0.1008\n",
      "_________________________________________________________________\n",
      "Layer (type)                 Output Shape              Param #   \n",
      "=================================================================\n",
      "bidirectional_1 (Bidirection (None, 340, 128)          49664     \n",
      "_________________________________________________________________\n",
      "dropout_1 (Dropout)          (None, 340, 128)          0         \n",
      "_________________________________________________________________\n",
      "bidirectional_2 (Bidirection (None, 128)               98816     \n",
      "_________________________________________________________________\n",
      "dropout_2 (Dropout)          (None, 128)               0         \n",
      "_________________________________________________________________\n",
      "dense_1 (Dense)              (None, 20)                2580      \n",
      "_________________________________________________________________\n",
      "activation_1 (Activation)    (None, 20)                0         \n",
      "=================================================================\n",
      "Total params: 151,060\n",
      "Trainable params: 151,060\n",
      "Non-trainable params: 0\n",
      "_________________________________________________________________\n",
      "None\n"
     ]
    }
   ],
   "source": [
    "model = Sequential()\n",
    "model.add(Bidirectional(LSTM(input_dim=32, output_dim=64, return_sequences=True)))\n",
    "model.add(Dropout(0.2))\n",
    "model.add(Bidirectional(LSTM(64, return_sequences=False)))\n",
    "model.add(Dropout(0.2))\n",
    "model.add(Dense(output_dim=20))\n",
    "model.add(Activation(\"sigmoid\"))\n",
    "model.compile(optimizer='adam', loss='binary_crossentropy')\n",
    "model.fit(x_train, y_train, batch_size=128, nb_epoch=20, validation_split=0.25)#验证集占整体0.2\n",
    "print(model.summary(),flush=True)"
   ]
  },
  {
   "cell_type": "code",
   "execution_count": 5,
   "metadata": {},
   "outputs": [
    {
     "name": "stdout",
     "output_type": "stream",
     "text": [
      "10373 4689\n",
      "0.68868676138627\n"
     ]
    }
   ],
   "source": [
    "#进行测试并得到精度\n",
    "predicted = model.predict(x_train)\n",
    "predicted=predicted.tolist()\n",
    "predicted_last=[]\n",
    "for i in range(len(predicted)):\n",
    "    ls = predicted[i]\n",
    "    mx = 0\n",
    "    for j in range(len(ls)):\n",
    "        if ls[j]>ls[mx]:\n",
    "            mx = j\n",
    "    predicted_last.append(mx)\n",
    "    \n",
    "true_predict = 0\n",
    "false_predict = 0\n",
    "for i in range(len(y_train)):\n",
    "    ls = y_train[i]\n",
    "    label = predicted_last[i]\n",
    "    if ls[label] == 1:\n",
    "        true_predict += 1\n",
    "    else:\n",
    "        false_predict += 1\n",
    "\n",
    "print(true_predict, false_predict)\n",
    "print(true_predict/(true_predict+false_predict))"
   ]
  },
  {
   "cell_type": "code",
   "execution_count": 6,
   "metadata": {},
   "outputs": [],
   "source": [
    "#进行测试并得到精度\n",
    "predicted = model.predict(x_test)\n",
    "predicted=predicted.tolist()\n",
    "predicted_last=[]\n",
    "for i in range(len(predicted)):\n",
    "    ls = predicted[i]\n",
    "    mx = 0\n",
    "    for j in range(len(ls)):\n",
    "        if ls[j]>ls[mx]:\n",
    "            mx = j\n",
    "    predicted_last.append(mx)"
   ]
  },
  {
   "cell_type": "code",
   "execution_count": 7,
   "metadata": {},
   "outputs": [
    {
     "name": "stdout",
     "output_type": "stream",
     "text": [
      "2173 1593\n",
      "0.5770047796070101\n"
     ]
    }
   ],
   "source": [
    "true_predict = 0\n",
    "false_predict = 0\n",
    "for i in range(len(y_test)):\n",
    "    ls = y_test[i]\n",
    "    label = predicted_last[i]\n",
    "    if ls[label] == 1:\n",
    "        true_predict += 1\n",
    "    else:\n",
    "        false_predict += 1\n",
    "\n",
    "print(true_predict, false_predict)\n",
    "print(true_predict/(true_predict+false_predict))"
   ]
  },
  {
   "cell_type": "code",
   "execution_count": null,
   "metadata": {},
   "outputs": [],
   "source": []
  },
  {
   "cell_type": "code",
   "execution_count": null,
   "metadata": {},
   "outputs": [],
   "source": []
  }
 ],
 "metadata": {
  "kernelspec": {
   "display_name": "Python 3",
   "language": "python",
   "name": "python3"
  },
  "language_info": {
   "codemirror_mode": {
    "name": "ipython",
    "version": 3
   },
   "file_extension": ".py",
   "mimetype": "text/x-python",
   "name": "python",
   "nbconvert_exporter": "python",
   "pygments_lexer": "ipython3",
   "version": "3.6.8"
  }
 },
 "nbformat": 4,
 "nbformat_minor": 4
}
