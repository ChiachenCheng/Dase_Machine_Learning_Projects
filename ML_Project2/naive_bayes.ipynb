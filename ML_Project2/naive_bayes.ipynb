{
 "cells": [
  {
   "cell_type": "code",
   "execution_count": 1,
   "metadata": {},
   "outputs": [],
   "source": [
    "from sklearn.naive_bayes import MultinomialNB\n",
    "from sklearn.feature_extraction.text import TfidfVectorizer\n",
    "from sklearn.model_selection import train_test_split\n",
    "from sklearn.datasets import fetch_20newsgroups\n",
    "from sklearn.model_selection import KFold\n",
    "import numpy as np"
   ]
  },
  {
   "cell_type": "code",
   "execution_count": 2,
   "metadata": {},
   "outputs": [],
   "source": [
    "def naive_bayes(X, Y, train_index, test_index):\n",
    "#     print(\"TRAIN:\", train_index, \"TEST:\", test_index)\n",
    "    x_train, x_test = X[train_index], X[test_index]\n",
    "    y_train, y_test = Y[train_index], Y[test_index]\n",
    "    # x_train,x_test,y_train,y_test = train_test_split(news_data.data,news_data.target,test_size=0.2)\n",
    "    #3.进行特征抽取\n",
    "    tf = TfidfVectorizer()\n",
    "    x_train = tf.fit_transform(x_train)\n",
    "    x_test = tf.transform(x_test)\n",
    "#     print(tf.vocabulary_)\n",
    "    #4.进行朴素贝叶斯算法分类\n",
    "    bayes = MultinomialNB(alpha=1.0)\n",
    "    bayes.fit(x_train,y_train)\n",
    "    y_predict = bayes.predict(x_test)\n",
    "    print(\"测试集的预测结果为：\",y_predict)\n",
    "    score = bayes.score(x_test,y_test)\n",
    "    print(\"模型的预测准确率为：\",score)\n",
    "    return score"
   ]
  },
  {
   "cell_type": "code",
   "execution_count": 3,
   "metadata": {},
   "outputs": [
    {
     "name": "stdout",
     "output_type": "stream",
     "text": [
      "测试集的预测结果为： [10  3 17 ... 14 12  7]\n",
      "模型的预测准确率为： 0.8567639257294429\n",
      "测试集的预测结果为： [ 5  0 15 ... 13 16  1]\n",
      "模型的预测准确率为： 0.8572565667285752\n",
      "测试集的预测结果为： [ 0  1 14 ...  9 16  7]\n",
      "模型的预测准确率为： 0.8548686654284956\n",
      "测试集的预测结果为： [11 15  4 ... 16  1  2]\n",
      "模型的预测准确率为： 0.853542053595118\n",
      "测试集的预测结果为： [17 10 15 ...  3  1  7]\n",
      "模型的预测准确率为： 0.8469089944282303\n",
      "最终的预测准确率为： 0.8538680411819725\n"
     ]
    }
   ],
   "source": [
    "if __name__ == '__main__':\n",
    "    # 1.读取数据\n",
    "    news_data = fetch_20newsgroups(subset=\"all\")\n",
    "    X = np.array(news_data.data)\n",
    "    Y = np.array(news_data.target)\n",
    "    # 2.划分训练集，测试集\n",
    "    kf = KFold(n_splits=5)\n",
    "    kf.get_n_splits(X)\n",
    "    scores = []\n",
    "    for train_index, test_index in kf.split(X):\n",
    "        scores.append(naive_bayes(X, Y, train_index, test_index))\n",
    "    print(\"最终的预测准确率为：\", np.array(scores).mean())"
   ]
  },
  {
   "cell_type": "code",
   "execution_count": null,
   "metadata": {},
   "outputs": [],
   "source": []
  }
 ],
 "metadata": {
  "kernelspec": {
   "display_name": "Python 3",
   "language": "python",
   "name": "python3"
  },
  "language_info": {
   "codemirror_mode": {
    "name": "ipython",
    "version": 3
   },
   "file_extension": ".py",
   "mimetype": "text/x-python",
   "name": "python",
   "nbconvert_exporter": "python",
   "pygments_lexer": "ipython3",
   "version": "3.6.8"
  }
 },
 "nbformat": 4,
 "nbformat_minor": 4
}
